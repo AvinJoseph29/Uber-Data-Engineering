{
 "cells": [
  {
   "cell_type": "markdown",
   "metadata": {
    "application/vnd.databricks.v1+cell": {
     "cellMetadata": {
      "byteLimit": 2048000,
      "rowLimit": 10000
     },
     "inputWidgets": {},
     "nuid": "758161d4-f7fe-4264-9f9d-642b43f2c0f0",
     "showTitle": false,
     "tableResultSettingsMap": {},
     "title": ""
    }
   },
   "source": [
    "**Load the data**"
   ]
  },
  {
   "cell_type": "code",
   "execution_count": 0,
   "metadata": {
    "application/vnd.databricks.v1+cell": {
     "cellMetadata": {
      "byteLimit": 2048000,
      "rowLimit": 10000
     },
     "inputWidgets": {},
     "nuid": "c2ae43b0-8c5f-4e3c-a6fa-00286b9b66b2",
     "showTitle": false,
     "tableResultSettingsMap": {},
     "title": ""
    }
   },
   "outputs": [
    {
     "output_type": "stream",
     "name": "stdout",
     "output_type": "stream",
     "text": [
      "root\n |-- VendorID: integer (nullable = true)\n |-- tpep_pickup_datetime: timestamp (nullable = true)\n |-- tpep_dropoff_datetime: timestamp (nullable = true)\n |-- passenger_count: integer (nullable = true)\n |-- trip_distance: double (nullable = true)\n |-- pickup_longitude: double (nullable = true)\n |-- pickup_latitude: double (nullable = true)\n |-- RatecodeID: integer (nullable = true)\n |-- store_and_fwd_flag: string (nullable = true)\n |-- dropoff_longitude: double (nullable = true)\n |-- dropoff_latitude: double (nullable = true)\n |-- payment_type: integer (nullable = true)\n |-- fare_amount: double (nullable = true)\n |-- extra: double (nullable = true)\n |-- mta_tax: double (nullable = true)\n |-- tip_amount: double (nullable = true)\n |-- tolls_amount: double (nullable = true)\n |-- improvement_surcharge: double (nullable = true)\n |-- total_amount: double (nullable = true)\n\n+--------+--------------------+---------------------+---------------+-------------+------------------+------------------+----------+------------------+------------------+------------------+------------+-----------+-----+-------+----------+------------+---------------------+------------+\n|VendorID|tpep_pickup_datetime|tpep_dropoff_datetime|passenger_count|trip_distance|  pickup_longitude|   pickup_latitude|RatecodeID|store_and_fwd_flag| dropoff_longitude|  dropoff_latitude|payment_type|fare_amount|extra|mta_tax|tip_amount|tolls_amount|improvement_surcharge|total_amount|\n+--------+--------------------+---------------------+---------------+-------------+------------------+------------------+----------+------------------+------------------+------------------+------------+-----------+-----+-------+----------+------------+---------------------+------------+\n|       1| 2016-03-01 00:00:00|  2016-03-01 00:07:55|              1|          2.5|-73.97674560546875|40.765151977539055|         1|                 N|-74.00426483154298| 40.74612808227539|           1|        9.0|  0.5|    0.5|      2.05|         0.0|                  0.3|       12.35|\n|       1| 2016-03-01 00:00:00|  2016-03-01 00:11:06|              1|          2.9|-73.98348236083984|40.767925262451165|         1|                 N|-74.00594329833984|  40.7331657409668|           1|       11.0|  0.5|    0.5|      3.05|         0.0|                  0.3|       15.35|\n|       2| 2016-03-01 00:00:00|  2016-03-01 00:31:06|              2|        19.98|-73.78202056884764| 40.64480972290039|         1|                 N|-73.97454071044923|  40.6757698059082|           1|       54.5|  0.5|    0.5|       8.0|         0.0|                  0.3|        63.8|\n|       2| 2016-03-01 00:00:00|  2016-03-01 00:00:00|              3|        10.78|-73.86341857910156|40.769813537597656|         1|                 N|-73.96965026855469|40.757766723632805|           1|       31.5|  0.0|    0.5|      3.78|        5.54|                  0.3|       41.62|\n|       2| 2016-03-01 00:00:00|  2016-03-01 00:00:00|              5|        30.43|-73.97174072265625| 40.79218292236328|         3|                 N|-74.17716979980467| 40.69505310058594|           1|       98.0|  0.0|    0.0|       0.0|        15.5|                  0.3|       113.8|\n+--------+--------------------+---------------------+---------------+-------------+------------------+------------------+----------+------------------+------------------+------------------+------------+-----------+-----+-------+----------+------------+---------------------+------------+\nonly showing top 5 rows\n\n"
     ]
    }
   ],
   "source": [
    "# Import necessary libraries\n",
    "from pyspark.sql import SparkSession\n",
    "\n",
    "# Create a Spark Session\n",
    "spark = SparkSession.builder.appName(\"Local_CSV_Reader\").getOrCreate()\n",
    "\n",
    "# Correct path to the CSV file in DBFS (without '/dbfs' prefix)\n",
    "file_path = \"/FileStore/tables/uber_data.csv\"  # Corrected path\n",
    "\n",
    "# Read the CSV file into a DataFrame\n",
    "df = spark.read.option(\"header\", \"true\").option(\"inferSchema\", \"true\").csv(file_path)\n",
    "\n",
    "# Display the DataFrame schema\n",
    "df.printSchema()\n",
    "\n",
    "# Show a sample of the data\n",
    "df.show(5)\n"
   ]
  },
  {
   "cell_type": "code",
   "execution_count": 0,
   "metadata": {
    "application/vnd.databricks.v1+cell": {
     "cellMetadata": {
      "byteLimit": 2048000,
      "rowLimit": 10000
     },
     "inputWidgets": {},
     "nuid": "98892f51-1e31-472d-86b3-744fda85b294",
     "showTitle": false,
     "tableResultSettingsMap": {},
     "title": ""
    }
   },
   "outputs": [],
   "source": [
    "from pyspark.sql import SparkSession\n",
    "from pyspark.sql.functions import col, to_timestamp, hour, dayofmonth, dayofweek, month, year, monotonically_increasing_id"
   ]
  },
  {
   "cell_type": "markdown",
   "metadata": {
    "application/vnd.databricks.v1+cell": {
     "cellMetadata": {
      "byteLimit": 2048000,
      "rowLimit": 10000
     },
     "inputWidgets": {},
     "nuid": "db83781f-c75c-4bd0-8ea9-72222dace628",
     "showTitle": false,
     "tableResultSettingsMap": {},
     "title": ""
    }
   },
   "source": [
    "**Convert tpep_pickup_datetime and tpep_dropoff_datetime to datetime type**"
   ]
  },
  {
   "cell_type": "code",
   "execution_count": 0,
   "metadata": {
    "application/vnd.databricks.v1+cell": {
     "cellMetadata": {
      "byteLimit": 2048000,
      "rowLimit": 10000
     },
     "inputWidgets": {},
     "nuid": "6de85d74-2d64-48d5-b14b-b114b07d9d7c",
     "showTitle": false,
     "tableResultSettingsMap": {},
     "title": ""
    }
   },
   "outputs": [],
   "source": [
    "df = df.withColumn(\"tpep_pickup_datetime\", to_timestamp(col(\"tpep_pickup_datetime\"))) \\\n",
    "       .withColumn(\"tpep_dropoff_datetime\", to_timestamp(col(\"tpep_dropoff_datetime\")))"
   ]
  },
  {
   "cell_type": "markdown",
   "metadata": {
    "application/vnd.databricks.v1+cell": {
     "cellMetadata": {
      "byteLimit": 2048000,
      "rowLimit": 10000
     },
     "inputWidgets": {},
     "nuid": "93429a25-41e7-41b8-a760-aab686663f59",
     "showTitle": false,
     "tableResultSettingsMap": {},
     "title": ""
    }
   },
   "source": [
    "**Remove duplicates and reset index**"
   ]
  },
  {
   "cell_type": "code",
   "execution_count": 0,
   "metadata": {
    "application/vnd.databricks.v1+cell": {
     "cellMetadata": {
      "byteLimit": 2048000,
      "rowLimit": 10000
     },
     "inputWidgets": {},
     "nuid": "e8ca3e50-bcb8-4961-88e1-62a67721347e",
     "showTitle": false,
     "tableResultSettingsMap": {},
     "title": ""
    }
   },
   "outputs": [],
   "source": [
    "df = df.dropDuplicates()\n",
    "\n",
    "# Add a trip_id column\n",
    "df = df.withColumn(\"trip_id\", monotonically_increasing_id())"
   ]
  },
  {
   "cell_type": "markdown",
   "metadata": {
    "application/vnd.databricks.v1+cell": {
     "cellMetadata": {
      "byteLimit": 2048000,
      "rowLimit": 10000
     },
     "inputWidgets": {},
     "nuid": "5ec44261-c2f4-4adf-8b0e-6d914e5d72bf",
     "showTitle": false,
     "tableResultSettingsMap": {},
     "title": ""
    }
   },
   "source": [
    "**Create datetime_dim table**"
   ]
  },
  {
   "cell_type": "code",
   "execution_count": 0,
   "metadata": {
    "application/vnd.databricks.v1+cell": {
     "cellMetadata": {
      "byteLimit": 2048000,
      "rowLimit": 10000
     },
     "inputWidgets": {},
     "nuid": "bc180067-5493-47ee-8014-71229f060b25",
     "showTitle": false,
     "tableResultSettingsMap": {},
     "title": ""
    }
   },
   "outputs": [
    {
     "output_type": "stream",
     "name": "stdout",
     "output_type": "stream",
     "text": [
      "+-----------+--------------------+---------------------+-----------+----------+--------------+------------+-----------+------------+-----------+---------------+-------------+------------+\n|datetime_id|tpep_pickup_datetime|tpep_dropoff_datetime|pickup_hour|pickup_day|pickup_weekday|pickup_month|pickup_year|dropoff_hour|dropoff_day|dropoff_weekday|dropoff_month|dropoff_year|\n+-----------+--------------------+---------------------+-----------+----------+--------------+------------+-----------+------------+-----------+---------------+-------------+------------+\n|          0| 2016-03-01 00:00:56|  2016-03-01 00:04:43|          0|         1|             3|           3|       2016|           0|          1|              3|            3|        2016|\n|          1| 2016-03-10 07:09:06|  2016-03-10 08:00:54|          7|        10|             5|           3|       2016|           8|         10|              5|            3|        2016|\n|          2| 2016-03-10 07:10:25|  2016-03-10 07:27:30|          7|        10|             5|           3|       2016|           7|         10|              5|            3|        2016|\n|          3| 2016-03-10 07:12:45|  2016-03-10 07:16:23|          7|        10|             5|           3|       2016|           7|         10|              5|            3|        2016|\n|          4| 2016-03-10 07:14:17|  2016-03-10 07:28:59|          7|        10|             5|           3|       2016|           7|         10|              5|            3|        2016|\n|          5| 2016-03-10 07:14:29|  2016-03-10 07:25:46|          7|        10|             5|           3|       2016|           7|         10|              5|            3|        2016|\n|          6| 2016-03-10 07:16:17|  2016-03-10 07:22:18|          7|        10|             5|           3|       2016|           7|         10|              5|            3|        2016|\n|          7| 2016-03-10 07:16:46|  2016-03-10 07:28:59|          7|        10|             5|           3|       2016|           7|         10|              5|            3|        2016|\n|          8| 2016-03-10 07:17:51|  2016-03-10 07:23:35|          7|        10|             5|           3|       2016|           7|         10|              5|            3|        2016|\n|          9| 2016-03-10 07:18:22|  2016-03-10 07:30:20|          7|        10|             5|           3|       2016|           7|         10|              5|            3|        2016|\n|         10| 2016-03-10 07:19:29|  2016-03-10 07:32:56|          7|        10|             5|           3|       2016|           7|         10|              5|            3|        2016|\n|         11| 2016-03-10 07:19:57|  2016-03-10 07:43:46|          7|        10|             5|           3|       2016|           7|         10|              5|            3|        2016|\n|         12| 2016-03-10 07:20:04|  2016-03-10 07:37:03|          7|        10|             5|           3|       2016|           7|         10|              5|            3|        2016|\n|         13| 2016-03-10 07:21:55|  2016-03-10 07:28:17|          7|        10|             5|           3|       2016|           7|         10|              5|            3|        2016|\n|         14| 2016-03-10 07:22:10|  2016-03-10 07:51:59|          7|        10|             5|           3|       2016|           7|         10|              5|            3|        2016|\n|         15| 2016-03-10 07:23:07|  2016-03-10 07:30:14|          7|        10|             5|           3|       2016|           7|         10|              5|            3|        2016|\n|         16| 2016-03-10 07:23:21|  2016-03-10 07:30:15|          7|        10|             5|           3|       2016|           7|         10|              5|            3|        2016|\n|         17| 2016-03-10 07:24:28|  2016-03-10 08:32:04|          7|        10|             5|           3|       2016|           8|         10|              5|            3|        2016|\n|         18| 2016-03-10 07:25:14|  2016-03-10 07:28:48|          7|        10|             5|           3|       2016|           7|         10|              5|            3|        2016|\n|         19| 2016-03-10 07:25:51|  2016-03-10 07:43:30|          7|        10|             5|           3|       2016|           7|         10|              5|            3|        2016|\n+-----------+--------------------+---------------------+-----------+----------+--------------+------------+-----------+------------+-----------+---------------+-------------+------------+\nonly showing top 20 rows\n\n"
     ]
    }
   ],
   "source": [
    "datetime_dim = df.select(\"tpep_pickup_datetime\", \"tpep_dropoff_datetime\") \\\n",
    "                 .withColumn(\"pickup_hour\", hour(col(\"tpep_pickup_datetime\"))) \\\n",
    "                 .withColumn(\"pickup_day\", dayofmonth(col(\"tpep_pickup_datetime\"))) \\\n",
    "                 .withColumn(\"pickup_weekday\", dayofweek(col(\"tpep_pickup_datetime\"))) \\\n",
    "                 .withColumn(\"pickup_month\", month(col(\"tpep_pickup_datetime\"))) \\\n",
    "                 .withColumn(\"pickup_year\", year(col(\"tpep_pickup_datetime\"))) \\\n",
    "                 .withColumn(\"dropoff_hour\", hour(col(\"tpep_dropoff_datetime\"))) \\\n",
    "                 .withColumn(\"dropoff_day\", dayofmonth(col(\"tpep_dropoff_datetime\"))) \\\n",
    "                 .withColumn(\"dropoff_weekday\", dayofweek(col(\"tpep_dropoff_datetime\"))) \\\n",
    "                 .withColumn(\"dropoff_month\", month(col(\"tpep_dropoff_datetime\"))) \\\n",
    "                 .withColumn(\"dropoff_year\", year(col(\"tpep_dropoff_datetime\")))\n",
    "\n",
    "# Add datetime_id column\n",
    "datetime_dim = datetime_dim.withColumn(\"datetime_id\", monotonically_increasing_id())\n",
    "\n",
    "# Reorder columns\n",
    "datetime_dim = datetime_dim.select(\"datetime_id\", *datetime_dim.columns[:-1])\n",
    "\n",
    "datetime_dim.show()"
   ]
  },
  {
   "cell_type": "markdown",
   "metadata": {
    "application/vnd.databricks.v1+cell": {
     "cellMetadata": {
      "byteLimit": 2048000,
      "rowLimit": 10000
     },
     "inputWidgets": {},
     "nuid": "a91c5b46-b7b5-4c24-8adb-d04a1c19b583",
     "showTitle": false,
     "tableResultSettingsMap": {},
     "title": ""
    }
   },
   "source": [
    "**Create passenger_count_dim table**"
   ]
  },
  {
   "cell_type": "code",
   "execution_count": 0,
   "metadata": {
    "application/vnd.databricks.v1+cell": {
     "cellMetadata": {
      "byteLimit": 2048000,
      "rowLimit": 10000
     },
     "inputWidgets": {},
     "nuid": "55ea4c39-1f07-44c3-bd0a-57c5d6c95b66",
     "showTitle": false,
     "tableResultSettingsMap": {},
     "title": ""
    }
   },
   "outputs": [
    {
     "output_type": "stream",
     "name": "stdout",
     "output_type": "stream",
     "text": [
      "+------------------+---------------+\n|passenger_count_id|passenger_count|\n+------------------+---------------+\n|                 0|              1|\n|                 1|              6|\n|                 2|              3|\n|                 3|              5|\n|                 4|              4|\n|                 5|              2|\n|                 6|              0|\n+------------------+---------------+\n\n"
     ]
    }
   ],
   "source": [
    "passenger_count_dim = df.select(\"passenger_count\").distinct() \\\n",
    "                        .withColumn(\"passenger_count_id\", monotonically_increasing_id())\n",
    "\n",
    "# Reorder columns\n",
    "passenger_count_dim = passenger_count_dim.select(\"passenger_count_id\", \"passenger_count\")\n",
    "\n",
    "passenger_count_dim.show()"
   ]
  },
  {
   "cell_type": "markdown",
   "metadata": {
    "application/vnd.databricks.v1+cell": {
     "cellMetadata": {
      "byteLimit": 2048000,
      "rowLimit": 10000
     },
     "inputWidgets": {},
     "nuid": "d63d967b-4b9a-4dfa-9a7b-8d5c37bb4ea0",
     "showTitle": false,
     "tableResultSettingsMap": {},
     "title": ""
    }
   },
   "source": [
    "**Create trip_distance_dim table**"
   ]
  },
  {
   "cell_type": "code",
   "execution_count": 0,
   "metadata": {
    "application/vnd.databricks.v1+cell": {
     "cellMetadata": {
      "byteLimit": 2048000,
      "rowLimit": 10000
     },
     "inputWidgets": {},
     "nuid": "d6e416ed-63eb-47e9-a2af-960a818d0ce0",
     "showTitle": false,
     "tableResultSettingsMap": {},
     "title": ""
    }
   },
   "outputs": [
    {
     "output_type": "stream",
     "name": "stdout",
     "output_type": "stream",
     "text": [
      "+----------------+-------------+\n|trip_distance_id|trip_distance|\n+----------------+-------------+\n|               0|        19.98|\n|               1|        17.56|\n|               2|         2.86|\n|               3|         0.66|\n|               4|        10.65|\n+----------------+-------------+\nonly showing top 5 rows\n\n"
     ]
    }
   ],
   "source": [
    "trip_distance_dim = df.select(\"trip_distance\").distinct() \\\n",
    "                      .withColumn(\"trip_distance_id\", monotonically_increasing_id())\n",
    "\n",
    "# Reorder columns\n",
    "trip_distance_dim = trip_distance_dim.select(\"trip_distance_id\", \"trip_distance\")\n",
    "\n",
    "trip_distance_dim.show(5)"
   ]
  },
  {
   "cell_type": "markdown",
   "metadata": {
    "application/vnd.databricks.v1+cell": {
     "cellMetadata": {
      "byteLimit": 2048000,
      "rowLimit": 10000
     },
     "inputWidgets": {},
     "nuid": "8cada254-d0b3-4142-9968-38b66c939954",
     "showTitle": false,
     "tableResultSettingsMap": {},
     "title": ""
    }
   },
   "source": [
    "**Create pickup_location_dim table**"
   ]
  },
  {
   "cell_type": "code",
   "execution_count": 0,
   "metadata": {
    "application/vnd.databricks.v1+cell": {
     "cellMetadata": {
      "byteLimit": 2048000,
      "rowLimit": 10000
     },
     "inputWidgets": {},
     "nuid": "b3d3818d-d210-4e27-acbc-ea9950a2af51",
     "showTitle": false,
     "tableResultSettingsMap": {},
     "title": ""
    }
   },
   "outputs": [
    {
     "output_type": "stream",
     "name": "stdout",
     "output_type": "stream",
     "text": [
      "+------------------+------------------+------------------+\n|pickup_location_id|  pickup_longitude|   pickup_latitude|\n+------------------+------------------+------------------+\n|                 0|-73.93929290771484| 40.84185028076172|\n|                 1|-73.97794342041014| 40.77862930297852|\n|                 2|-73.97701263427734|40.774707794189446|\n|                 3| -73.9498519897461| 40.78435897827149|\n|                 4|-73.94937133789062| 40.77684783935546|\n|                 5| -73.9841537475586| 40.78036117553711|\n|                 6|-73.99024963378906| 40.75651550292969|\n|                 7|-73.98612213134764|  40.7264404296875|\n|                 8|-73.98419189453125|40.721710205078125|\n|                 9| -73.9706802368164| 40.78342819213867|\n|                10|-73.99044036865233|40.756053924560554|\n|                11|-73.96432495117188|40.764530181884766|\n|                12|-73.96515655517578| 40.79605102539063|\n|                13|-74.00804901123048| 40.71493911743164|\n|                14|    -73.9873046875| 40.72218704223633|\n|                15| -73.9598617553711|  40.7794189453125|\n|                16|-73.98164367675781| 40.77968978881836|\n|                17|    -73.9638671875| 40.77114868164063|\n|                18| -73.9796371459961|40.744571685791016|\n|                19|-73.96155548095702| 40.77135848999024|\n+------------------+------------------+------------------+\nonly showing top 20 rows\n\n"
     ]
    }
   ],
   "source": [
    "pickup_location_dim = df.select(\"pickup_longitude\", \"pickup_latitude\").distinct() \\\n",
    "                        .withColumn(\"pickup_location_id\", monotonically_increasing_id())\n",
    "\n",
    "# Reorder columns\n",
    "pickup_location_dim = pickup_location_dim.select(\"pickup_location_id\", \"pickup_longitude\", \"pickup_latitude\")\n",
    "\n",
    "pickup_location_dim.show()"
   ]
  },
  {
   "cell_type": "markdown",
   "metadata": {
    "application/vnd.databricks.v1+cell": {
     "cellMetadata": {
      "byteLimit": 2048000,
      "rowLimit": 10000
     },
     "inputWidgets": {},
     "nuid": "fb66045c-dea1-4b90-82ae-d55bb685b555",
     "showTitle": false,
     "tableResultSettingsMap": {},
     "title": ""
    }
   },
   "source": [
    "**Create dropoff_location_dim table**"
   ]
  },
  {
   "cell_type": "code",
   "execution_count": 0,
   "metadata": {
    "application/vnd.databricks.v1+cell": {
     "cellMetadata": {
      "byteLimit": 2048000,
      "rowLimit": 10000
     },
     "inputWidgets": {},
     "nuid": "ec09287b-07b6-418f-abbc-99f4a23b0c4a",
     "showTitle": false,
     "tableResultSettingsMap": {},
     "title": ""
    }
   },
   "outputs": [
    {
     "output_type": "stream",
     "name": "stdout",
     "output_type": "stream",
     "text": [
      "+-------------------+------------------+------------------+\n|dropoff_location_id| dropoff_longitude|  dropoff_latitude|\n+-------------------+------------------+------------------+\n|                  0|-73.97039031982422| 40.75946044921875|\n|                  1|-74.01337432861328| 40.70356369018555|\n|                  2|-73.96913146972656| 40.76084899902344|\n|                  3|-74.00003051757811| 40.74119567871094|\n|                  4|-73.96012115478516|40.777191162109375|\n|                  5|-73.98291778564453|40.750789642333984|\n|                  6|-73.95810699462889| 40.76528930664063|\n|                  7|-74.01368713378906| 40.71493148803711|\n|                  8|-73.98253631591797| 40.76919555664063|\n|                  9|-73.93907928466798| 40.75941848754882|\n|                 10| -73.9759292602539| 40.76374816894531|\n|                 11|-73.99980926513672|  40.7395896911621|\n|                 12|-73.94681549072266| 40.77320861816406|\n|                 13|-73.98957061767578| 40.75737762451172|\n|                 14|-73.88430786132812| 40.75386428833008|\n|                 15|  -73.990966796875| 40.72974395751953|\n|                 16|-73.95249938964844| 40.77219009399414|\n|                 17|-73.95507049560547|40.764869689941406|\n|                 18|-73.97589111328125| 40.75434112548828|\n|                 19| -73.9857177734375|40.740699768066406|\n+-------------------+------------------+------------------+\nonly showing top 20 rows\n\n"
     ]
    }
   ],
   "source": [
    "dropoff_location_dim = df.select(\"dropoff_longitude\", \"dropoff_latitude\").distinct() \\\n",
    "                         .withColumn(\"dropoff_location_id\", monotonically_increasing_id())\n",
    "\n",
    "# Reorder columns\n",
    "dropoff_location_dim = dropoff_location_dim.select(\"dropoff_location_id\", \"dropoff_longitude\", \"dropoff_latitude\")\n",
    "\n",
    "dropoff_location_dim.show()"
   ]
  },
  {
   "cell_type": "markdown",
   "metadata": {
    "application/vnd.databricks.v1+cell": {
     "cellMetadata": {
      "byteLimit": 2048000,
      "rowLimit": 10000
     },
     "inputWidgets": {},
     "nuid": "46d65d7f-a157-47ca-9177-6600980ddca7",
     "showTitle": false,
     "tableResultSettingsMap": {},
     "title": ""
    }
   },
   "source": [
    "**Create rate_code_dim table**"
   ]
  },
  {
   "cell_type": "code",
   "execution_count": 0,
   "metadata": {
    "application/vnd.databricks.v1+cell": {
     "cellMetadata": {
      "byteLimit": 2048000,
      "rowLimit": 10000
     },
     "inputWidgets": {},
     "nuid": "fe70a646-f5ca-4ec0-a3e2-2f53c95bafb9",
     "showTitle": false,
     "tableResultSettingsMap": {},
     "title": ""
    }
   },
   "outputs": [
    {
     "output_type": "stream",
     "name": "stdout",
     "output_type": "stream",
     "text": [
      "+------------+----------+--------------------+\n|rate_code_id|RatecodeID|      rate_code_name|\n+------------+----------+--------------------+\n|           0|         1|       Standard rate|\n|           1|         3|              Newark|\n|           2|         5|     Negotiated fare|\n|           3|         4|Nassau or Westche...|\n|           4|         2|                 JFK|\n|           5|         6|          Group ride|\n+------------+----------+--------------------+\n\n"
     ]
    }
   ],
   "source": [
    "from pyspark.sql.functions import create_map, lit, col, monotonically_increasing_id\n",
    "from itertools import chain\n",
    "\n",
    "# Create rate_code_type dictionary\n",
    "rate_code_type = {\n",
    "    1: 'Standard rate',\n",
    "    2: 'JFK',\n",
    "    3: 'Newark',\n",
    "    4: 'Nassau or Westchester',\n",
    "    5: 'Negotiated fare',\n",
    "    6: 'Group ride'\n",
    "}\n",
    "\n",
    "# Convert dictionary to a PySpark map using chain\n",
    "rate_code_mapping = create_map([lit(x) for x in chain(*rate_code_type.items())])\n",
    "\n",
    "# Create Rate Code Dimension Table\n",
    "rate_code_dim = df.select(\"RatecodeID\").distinct() \\\n",
    "                  .withColumn(\"rate_code_id\", monotonically_increasing_id()) \\\n",
    "                  .withColumn(\"rate_code_name\", rate_code_mapping[col(\"RatecodeID\")])\n",
    "\n",
    "# Reorder columns\n",
    "rate_code_dim = rate_code_dim.select(\"rate_code_id\", \"RatecodeID\", \"rate_code_name\")\n",
    "\n",
    "rate_code_dim.show()\n"
   ]
  },
  {
   "cell_type": "markdown",
   "metadata": {
    "application/vnd.databricks.v1+cell": {
     "cellMetadata": {
      "byteLimit": 2048000,
      "rowLimit": 10000
     },
     "inputWidgets": {},
     "nuid": "1f325691-3aef-4e1e-a8df-bec083d8e985",
     "showTitle": false,
     "tableResultSettingsMap": {},
     "title": ""
    }
   },
   "source": [
    "**Create payment_type_dim table**"
   ]
  },
  {
   "cell_type": "code",
   "execution_count": 0,
   "metadata": {
    "application/vnd.databricks.v1+cell": {
     "cellMetadata": {
      "byteLimit": 2048000,
      "rowLimit": 10000
     },
     "inputWidgets": {},
     "nuid": "cb348896-1e2f-49cf-bb1f-59da9a0af398",
     "showTitle": false,
     "tableResultSettingsMap": {},
     "title": ""
    }
   },
   "outputs": [
    {
     "output_type": "stream",
     "name": "stdout",
     "output_type": "stream",
     "text": [
      "+---------------+------------+-----------------+\n|payment_type_id|payment_type|payment_type_name|\n+---------------+------------+-----------------+\n|              0|           1|      Credit card|\n|              1|           3|        No charge|\n|              2|           4|          Dispute|\n|              3|           2|             Cash|\n+---------------+------------+-----------------+\n\n"
     ]
    }
   ],
   "source": [
    "from pyspark.sql.functions import create_map, lit, col, monotonically_increasing_id\n",
    "from itertools import chain\n",
    "\n",
    "# Create payment_type_name dictionary\n",
    "payment_type_name = {\n",
    "    1: 'Credit card',\n",
    "    2: 'Cash',\n",
    "    3: 'No charge',\n",
    "    4: 'Dispute',\n",
    "    5: 'Unknown',\n",
    "    6: 'Voided trip'\n",
    "}\n",
    "\n",
    "# Convert dictionary to PySpark map with lit()\n",
    "payment_type_mapping = create_map([lit(x) for x in chain(*payment_type_name.items())])\n",
    "\n",
    "# Create Payment Type Dimension Table\n",
    "payment_type_dim = df.select(\"payment_type\").distinct() \\\n",
    "                     .withColumn(\"payment_type_id\", monotonically_increasing_id()) \\\n",
    "                     .withColumn(\"payment_type_name\", payment_type_mapping[col(\"payment_type\")])\n",
    "\n",
    "# Reorder columns\n",
    "payment_type_dim = payment_type_dim.select(\"payment_type_id\", \"payment_type\", \"payment_type_name\")\n",
    "\n",
    "payment_type_dim.show()\n"
   ]
  },
  {
   "cell_type": "markdown",
   "metadata": {
    "application/vnd.databricks.v1+cell": {
     "cellMetadata": {
      "byteLimit": 2048000,
      "rowLimit": 10000
     },
     "inputWidgets": {},
     "nuid": "5a50e65b-b710-432d-aa94-65abbc9530af",
     "showTitle": false,
     "tableResultSettingsMap": {},
     "title": ""
    }
   },
   "source": [
    "**Create fact_table**"
   ]
  },
  {
   "cell_type": "code",
   "execution_count": 0,
   "metadata": {
    "application/vnd.databricks.v1+cell": {
     "cellMetadata": {
      "byteLimit": 2048000,
      "rowLimit": 10000
     },
     "inputWidgets": {},
     "nuid": "c00ce82e-c3f9-42f1-bf70-6ed1b8e527ec",
     "showTitle": false,
     "tableResultSettingsMap": {},
     "title": ""
    }
   },
   "outputs": [
    {
     "output_type": "stream",
     "name": "stdout",
     "output_type": "stream",
     "text": [
      "+-------+--------+-----------+------------------+----------------+------------------+-------------------+------------+---------------+-----------+-----+-------+----------+------------+---------------------+------------+\n|trip_id|VendorID|datetime_id|passenger_count_id|trip_distance_id|pickup_location_id|dropoff_location_id|rate_code_id|payment_type_id|fare_amount|extra|mta_tax|tip_amount|tolls_amount|improvement_surcharge|total_amount|\n+-------+--------+-----------+------------------+----------------+------------------+-------------------+------------+---------------+-----------+-----+-------+----------+------------+---------------------+------------+\n|      0|       2|          0|                 0|               0|                 0|                  0|           0|              0|        4.5|  0.5|    0.5|      1.16|         0.0|                  0.3|        6.96|\n|      1|       2|          1|                 1|               1|                 1|                  1|           1|              1|       52.0|  0.0|    0.5|      10.8|        5.54|                  0.3|       69.14|\n|      2|       2|          2|                 2|               2|                 2|                  2|           2|              2|       22.0|  0.0|    0.5|      4.56|         0.0|                  0.3|       27.36|\n|      3|       2|          3|                 3|               3|                 3|                  3|           3|              3|        5.0|  0.0|    0.5|      1.16|         0.0|                  0.3|        6.96|\n+-------+--------+-----------+------------------+----------------+------------------+-------------------+------------+---------------+-----------+-----+-------+----------+------------+---------------------+------------+\n\n"
     ]
    }
   ],
   "source": [
    "fact_table = df.join(passenger_count_dim, df.trip_id == passenger_count_dim.passenger_count_id) \\\n",
    "               .join(trip_distance_dim, df.trip_id == trip_distance_dim.trip_distance_id) \\\n",
    "               .join(rate_code_dim, df.trip_id == rate_code_dim.rate_code_id) \\\n",
    "               .join(payment_type_dim, df.trip_id == payment_type_dim.payment_type_id) \\\n",
    "               .join(datetime_dim, df.trip_id == datetime_dim.datetime_id) \\\n",
    "               .join(pickup_location_dim, df.trip_id == pickup_location_dim.pickup_location_id) \\\n",
    "               .join(dropoff_location_dim, df.trip_id == dropoff_location_dim.dropoff_location_id) \\\n",
    "               .select(\n",
    "                   \"trip_id\", \"VendorID\", \"datetime_id\", \"passenger_count_id\", \"trip_distance_id\",\n",
    "                   \"pickup_location_id\", \"dropoff_location_id\", \"rate_code_id\", \"payment_type_id\",\n",
    "                   \"fare_amount\", \"extra\", \"mta_tax\", \"tip_amount\", \"tolls_amount\", \"improvement_surcharge\", \"total_amount\"\n",
    "               )\n",
    "\n",
    "fact_table.show()"
   ]
  },
  {
   "cell_type": "markdown",
   "metadata": {
    "application/vnd.databricks.v1+cell": {
     "cellMetadata": {},
     "inputWidgets": {},
     "nuid": "132cca80-f563-45fc-842b-02db8ac9567d",
     "showTitle": false,
     "tableResultSettingsMap": {},
     "title": ""
    }
   },
   "source": [
    "**Calculate Trip Duration**"
   ]
  },
  {
   "cell_type": "code",
   "execution_count": 0,
   "metadata": {
    "application/vnd.databricks.v1+cell": {
     "cellMetadata": {
      "byteLimit": 2048000,
      "rowLimit": 10000
     },
     "inputWidgets": {},
     "nuid": "d2f9b9af-a8a4-49e1-b340-e6117610131d",
     "showTitle": false,
     "tableResultSettingsMap": {},
     "title": ""
    }
   },
   "outputs": [],
   "source": [
    "from pyspark.sql.functions import unix_timestamp\n",
    "\n",
    "# Calculate trip duration in minutes\n",
    "df = df.withColumn(\"trip_duration_minutes\", \n",
    "                   (unix_timestamp(col(\"tpep_dropoff_datetime\")) - unix_timestamp(col(\"tpep_pickup_datetime\"))) / 60)"
   ]
  },
  {
   "cell_type": "code",
   "execution_count": 0,
   "metadata": {
    "application/vnd.databricks.v1+cell": {
     "cellMetadata": {
      "byteLimit": 2048000,
      "rowLimit": 10000
     },
     "inputWidgets": {},
     "nuid": "835f3763-f92b-4efd-8fc2-7702bcd50fa9",
     "showTitle": false,
     "tableResultSettingsMap": {},
     "title": ""
    }
   },
   "outputs": [
    {
     "output_type": "stream",
     "name": "stdout",
     "output_type": "stream",
     "text": [
      "+--------+--------------------+---------------------+---------------+-------------+------------------+------------------+----------+------------------+------------------+------------------+------------+-----------+-----+-------+----------+------------+---------------------+------------+-------+---------------------+\n|VendorID|tpep_pickup_datetime|tpep_dropoff_datetime|passenger_count|trip_distance|  pickup_longitude|   pickup_latitude|RatecodeID|store_and_fwd_flag| dropoff_longitude|  dropoff_latitude|payment_type|fare_amount|extra|mta_tax|tip_amount|tolls_amount|improvement_surcharge|total_amount|trip_id|trip_duration_minutes|\n+--------+--------------------+---------------------+---------------+-------------+------------------+------------------+----------+------------------+------------------+------------------+------------+-----------+-----+-------+----------+------------+---------------------+------------+-------+---------------------+\n|       2| 2016-03-01 00:00:56|  2016-03-01 00:04:43|              1|         0.58|-73.96846771240233| 40.75896835327149|         1|                 N|-73.96259307861328| 40.76401138305664|           1|        4.5|  0.5|    0.5|      1.16|         0.0|                  0.3|        6.96|      0|    3.783333333333333|\n|       2| 2016-03-10 07:09:06|  2016-03-10 08:00:54|              5|         22.0|-73.98843383789062| 40.76903533935546|         2|                 N|-73.78794860839844| 40.64458847045898|           1|       52.0|  0.0|    0.5|      10.8|        5.54|                  0.3|       69.14|      1|                 51.8|\n|       2| 2016-03-10 07:10:25|  2016-03-10 07:27:30|              1|         7.11|-73.95269775390625| 40.77652359008789|         1|                 N|-74.00975799560547| 40.70216751098633|           1|       22.0|  0.0|    0.5|      4.56|         0.0|                  0.3|       27.36|      2|   17.083333333333332|\n|       2| 2016-03-10 07:12:45|  2016-03-10 07:16:23|              2|         0.74|-73.98603057861328| 40.73477935791016|         1|                 N|-73.97476959228516|40.732818603515625|           1|        5.0|  0.0|    0.5|      1.16|         0.0|                  0.3|        6.96|      3|   3.6333333333333333|\n|       2| 2016-03-10 07:14:17|  2016-03-10 07:28:59|              1|         6.35|-73.95063781738281|40.771099090576165|         1|                 N|  -74.004638671875| 40.71016311645508|           1|       19.5|  0.0|    0.5|      4.06|         0.0|                  0.3|       24.36|      4|                 14.7|\n|       2| 2016-03-10 07:14:29|  2016-03-10 07:25:46|              1|         2.15|-73.99230194091797|40.730571746826165|         1|                 N|    -73.9755859375| 40.75518798828125|           2|       10.0|  0.0|    0.5|       0.0|         0.0|                  0.3|        10.8|      5|   11.283333333333333|\n|       2| 2016-03-10 07:16:17|  2016-03-10 07:22:18|              1|         1.35|-73.97020721435547| 40.76520156860352|         1|                 N| -73.9554214477539|40.777000427246094|           1|        6.5|  0.0|    0.5|      1.46|         0.0|                  0.3|        8.76|      6|    6.016666666666667|\n|       2| 2016-03-10 07:16:46|  2016-03-10 07:28:59|              1|         2.19|-73.94994354248048|  40.7712516784668|         1|                 N|-73.97335052490233|40.790000915527344|           1|       10.5|  0.0|    0.5|      2.26|         0.0|                  0.3|       13.56|      7|   12.216666666666667|\n|       2| 2016-03-10 07:17:51|  2016-03-10 07:23:35|              1|          1.3|-73.96414947509764|  40.7763900756836|         1|                 N|-73.97868347167967| 40.76691055297852|           1|        6.5|  0.0|    0.5|       1.0|         0.0|                  0.3|         8.3|      8|    5.733333333333333|\n|       2| 2016-03-10 07:18:22|  2016-03-10 07:30:20|              2|         2.34|-73.96533966064453|40.769088745117195|         1|                 N|-73.99092102050781| 40.75117874145508|           1|       10.5|  0.0|    0.5|      2.26|         0.0|                  0.3|       13.56|      9|   11.966666666666667|\n|       2| 2016-03-10 07:19:29|  2016-03-10 07:32:56|              1|         3.28|  -73.960693359375| 40.76137924194336|         1|                 N|-73.98616790771484| 40.73482131958008|           2|       13.5|  0.0|    0.5|       0.0|         0.0|                  0.3|        14.3|     10|                13.45|\n|       2| 2016-03-10 07:19:57|  2016-03-10 07:43:46|              1|         11.4|-73.97232055664062| 40.75535583496094|         1|                 N|-73.86260986328125|  40.7683982849121|           1|       32.0|  0.0|    0.5|      9.58|        5.54|                  0.3|       47.92|     11|   23.816666666666666|\n|       2| 2016-03-10 07:20:04|  2016-03-10 07:37:03|              5|         1.84|-73.94609069824217| 40.77315902709961|         1|                 N|-73.96687316894531|  40.7886962890625|           1|       12.0|  0.0|    0.5|       1.0|         0.0|                  0.3|        13.8|     12|   16.983333333333334|\n|       2| 2016-03-10 07:21:55|  2016-03-10 07:28:17|              1|         0.61|-73.97197723388672|  40.7577018737793|         1|                 N|-73.98178100585938|40.758487701416016|           2|        5.5|  0.0|    0.5|       0.0|         0.0|                  0.3|         6.3|     13|    6.366666666666666|\n|       2| 2016-03-10 07:22:10|  2016-03-10 07:51:59|              2|         5.07|-73.91931915283203| 40.74430084228516|         1|                 N|-73.98719024658203| 40.75117874145508|           1|       22.5|  0.0|    0.5|      4.66|         0.0|                  0.3|       27.96|     14|   29.816666666666666|\n|       2| 2016-03-10 07:23:07|  2016-03-10 07:30:14|              1|         1.28|  -73.950439453125| 40.77532958984375|         1|                 N|-73.96199798583984|40.763790130615234|           1|        7.0|  0.0|    0.5|       1.0|         0.0|                  0.3|         8.8|     15|    7.116666666666666|\n|       2| 2016-03-10 07:23:21|  2016-03-10 07:30:15|              1|         1.17|-73.99031066894531|40.756790161132805|         1|                 N|-73.98509216308595| 40.74810028076172|           2|        6.5|  0.0|    0.5|       0.0|         0.0|                  0.3|         7.3|     16|                  6.9|\n|       2| 2016-03-10 07:24:28|  2016-03-10 08:32:04|              1|        18.17|-73.78195953369139| 40.64482879638672|         2|                 N|-73.97913360595702|  40.7619514465332|           1|       52.0|  0.0|    0.5|     11.67|        5.54|                  0.3|       70.01|     17|                 67.6|\n|       2| 2016-03-10 07:25:14|  2016-03-10 07:28:48|              1|         0.73| -73.9881362915039|40.774688720703125|         1|                 N|-73.98094177246092| 40.78200149536133|           1|        5.0|  0.0|    0.5|      1.16|         0.0|                  0.3|        6.96|     18|    3.566666666666667|\n|       2| 2016-03-10 07:25:51|  2016-03-10 07:43:30|              1|         2.02|-73.97631072998048|40.775970458984375|         1|                 N|-73.98104858398438|40.752979278564446|           1|       13.0|  0.0|    0.5|      3.45|         0.0|                  0.3|       17.25|     19|                17.65|\n+--------+--------------------+---------------------+---------------+-------------+------------------+------------------+----------+------------------+------------------+------------------+------------+-----------+-----+-------+----------+------------+---------------------+------------+-------+---------------------+\nonly showing top 20 rows\n\n"
     ]
    }
   ],
   "source": [
    "df.show()"
   ]
  },
  {
   "cell_type": "markdown",
   "metadata": {
    "application/vnd.databricks.v1+cell": {
     "cellMetadata": {},
     "inputWidgets": {},
     "nuid": "987b1a8f-9b98-4081-9eaa-b0acb97310ee",
     "showTitle": false,
     "tableResultSettingsMap": {},
     "title": ""
    }
   },
   "source": [
    "**Revenue Analysis by Time of Day, Day of Week, and Month**"
   ]
  },
  {
   "cell_type": "code",
   "execution_count": 0,
   "metadata": {
    "application/vnd.databricks.v1+cell": {
     "cellMetadata": {
      "byteLimit": 2048000,
      "rowLimit": 10000
     },
     "inputWidgets": {},
     "nuid": "4e4c131a-8220-4f22-8bb5-f88ad30dfc76",
     "showTitle": false,
     "tableResultSettingsMap": {},
     "title": ""
    }
   },
   "outputs": [
    {
     "output_type": "stream",
     "name": "stdout",
     "output_type": "stream",
     "text": [
      "+-----------+------------------+\n|pickup_hour|     total_revenue|\n+-----------+------------------+\n|          0|123377.42999999851|\n|          1| 70962.12999999963|\n|          2|41108.150000000125|\n|          3| 31724.88000000013|\n|          4| 38209.59000000011|\n|          5|  68055.1499999998|\n|          6|32469.970000000118|\n|          7|142396.04999999778|\n|          8|177146.46999999828|\n|          9|167358.04999999798|\n|         10|154726.84999999817|\n|         11|154918.10999999798|\n|         12|171311.51999999824|\n|         13|175717.62999999823|\n|         14| 89590.10999999937|\n+-----------+------------------+\n\n+--------------+------------------+\n|pickup_weekday|     total_revenue|\n+--------------+------------------+\n|             3| 405907.3000000164|\n|             5|1233164.7899998862|\n+--------------+------------------+\n\n+------------+------------------+\n|pickup_month|     total_revenue|\n+------------+------------------+\n|           3|1639072.0899997323|\n+------------+------------------+\n\n"
     ]
    }
   ],
   "source": [
    "from pyspark.sql.functions import sum, avg\n",
    "\n",
    "# Revenue by hour of the day\n",
    "revenue_by_hour = df.groupBy(hour(col(\"tpep_pickup_datetime\")).alias(\"pickup_hour\")) \\\n",
    "                    .agg(sum(\"total_amount\").alias(\"total_revenue\")) \\\n",
    "                    .orderBy(\"pickup_hour\")\n",
    "\n",
    "revenue_by_hour.show()\n",
    "\n",
    "# Revenue by day of the week\n",
    "revenue_by_weekday = df.groupBy(dayofweek(col(\"tpep_pickup_datetime\")).alias(\"pickup_weekday\")) \\\n",
    "                       .agg(sum(\"total_amount\").alias(\"total_revenue\")) \\\n",
    "                       .orderBy(\"pickup_weekday\")\n",
    "\n",
    "revenue_by_weekday.show()\n",
    "\n",
    "# Revenue by month\n",
    "revenue_by_month = df.groupBy(month(col(\"tpep_pickup_datetime\")).alias(\"pickup_month\")) \\\n",
    "                     .agg(sum(\"total_amount\").alias(\"total_revenue\")) \\\n",
    "                     .orderBy(\"pickup_month\")\n",
    "\n",
    "revenue_by_month.show()"
   ]
  },
  {
   "cell_type": "markdown",
   "metadata": {
    "application/vnd.databricks.v1+cell": {
     "cellMetadata": {},
     "inputWidgets": {},
     "nuid": "ce1653c0-6613-4d82-ba6c-fa23ccd76fec",
     "showTitle": false,
     "tableResultSettingsMap": {},
     "title": ""
    }
   },
   "source": [
    "**Geospatial Analysis (Hotspots)**"
   ]
  },
  {
   "cell_type": "code",
   "execution_count": 0,
   "metadata": {
    "application/vnd.databricks.v1+cell": {
     "cellMetadata": {
      "byteLimit": 2048000,
      "rowLimit": 10000
     },
     "inputWidgets": {},
     "nuid": "26e3d1f6-379d-466f-b893-37a577a6b49f",
     "showTitle": false,
     "tableResultSettingsMap": {},
     "title": ""
    }
   },
   "outputs": [
    {
     "output_type": "stream",
     "name": "stdout",
     "output_type": "stream",
     "text": [
      "+------------------+------------------+----------+\n|   pickup_latitude|  pickup_longitude|trip_count|\n+------------------+------------------+----------+\n|               0.0|               0.0|       925|\n|40.747291564941406|-73.93831634521484|        21|\n| 40.68149185180664|-74.10514068603516|        20|\n| 40.71524810791016|-73.75502014160156|        20|\n| 40.76255035400391|-73.98658752441406|        20|\n|40.812801361083984|-73.96054077148438|        14|\n| 40.74533081054688| -73.9708480834961|        13|\n| 40.75154113769531|-73.94527435302734|        11|\n| 40.83308410644531|-73.94574737548828|         9|\n| 40.65737915039063|-73.79387664794923|         8|\n+------------------+------------------+----------+\n\n+------------------+------------------+----------+\n|  dropoff_latitude| dropoff_longitude|trip_count|\n+------------------+------------------+----------+\n|               0.0|               0.0|       893|\n|40.747291564941406|-73.93831634521484|        21|\n| 40.76255035400391|-73.98658752441406|        21|\n| 40.68149185180664|-74.10514068603516|        20|\n| 40.71524810791016|-73.75502014160156|        20|\n| 40.74533081054688| -73.9708480834961|        14|\n|40.812801361083984|-73.96054077148438|        14|\n| 40.75154113769531|-73.94527435302734|        11|\n| 40.83308410644531|-73.94574737548828|        10|\n| 40.75130462646485|-73.98294067382812|         9|\n+------------------+------------------+----------+\n\n"
     ]
    }
   ],
   "source": [
    "from pyspark.sql.functions import count\n",
    "\n",
    "# Top 10 pickup locations (hotspots)\n",
    "pickup_hotspots = df.groupBy(\"pickup_latitude\", \"pickup_longitude\") \\\n",
    "                    .agg(count(\"*\").alias(\"trip_count\")) \\\n",
    "                    .orderBy(col(\"trip_count\").desc()) \\\n",
    "                    .limit(10)\n",
    "\n",
    "pickup_hotspots.show()\n",
    "\n",
    "# Top 10 dropoff locations (hotspots)\n",
    "dropoff_hotspots = df.groupBy(\"dropoff_latitude\", \"dropoff_longitude\") \\\n",
    "                     .agg(count(\"*\").alias(\"trip_count\")) \\\n",
    "                     .orderBy(col(\"trip_count\").desc()) \\\n",
    "                     .limit(10)\n",
    "\n",
    "dropoff_hotspots.show()"
   ]
  },
  {
   "cell_type": "code",
   "execution_count": 0,
   "metadata": {
    "application/vnd.databricks.v1+cell": {
     "cellMetadata": {
      "byteLimit": 2048000,
      "rowLimit": 10000
     },
     "inputWidgets": {},
     "nuid": "c43959b7-b32f-4aa1-9551-964f2f4cef0c",
     "showTitle": false,
     "tableResultSettingsMap": {},
     "title": ""
    }
   },
   "outputs": [],
   "source": [
    "# Average trip distance and revenue by passenger count\n",
    "passenger_behavior = df.groupBy(\"passenger_count\") \\\n",
    "                       .agg(\n",
    "                           avg(\"trip_distance\").alias(\"avg_trip_distance\"),\n",
    "                           avg(\"total_amount\").alias(\"avg_revenue\")\n",
    "                       ) \\\n",
    "                       .orderBy(\"passenger_count\")"
   ]
  },
  {
   "cell_type": "code",
   "execution_count": 0,
   "metadata": {
    "application/vnd.databricks.v1+cell": {
     "cellMetadata": {
      "byteLimit": 2048000,
      "rowLimit": 10000
     },
     "inputWidgets": {},
     "nuid": "937a47e2-f774-4714-af13-77b1c4adb4e9",
     "showTitle": false,
     "tableResultSettingsMap": {},
     "title": ""
    }
   },
   "outputs": [
    {
     "output_type": "stream",
     "name": "stdout",
     "output_type": "stream",
     "text": [
      "+---------------+-------------------+------------------+\n|passenger_count|  avg_trip_distance|       avg_revenue|\n+---------------+-------------------+------------------+\n|              0|0.02666666666666667| 37.96666666666666|\n|              1| 3.0628218282869932| 16.43996091185226|\n|              2|  3.104453278867896| 16.62547450579908|\n|              3| 2.9159298331697743|16.155846418056885|\n|              4|  2.829545934530096|15.626758183738172|\n|              5| 2.9596764974851393|   16.386579789666|\n|              6| 2.8202863254895507|15.721423399703653|\n+---------------+-------------------+------------------+\n\n"
     ]
    }
   ],
   "source": [
    "passenger_behavior.show()"
   ]
  },
  {
   "cell_type": "code",
   "execution_count": 0,
   "metadata": {
    "application/vnd.databricks.v1+cell": {
     "cellMetadata": {
      "byteLimit": 2048000,
      "rowLimit": 10000
     },
     "inputWidgets": {},
     "nuid": "c8636e0b-ac64-46c3-82c4-f4f90937b132",
     "showTitle": false,
     "tableResultSettingsMap": {},
     "title": ""
    }
   },
   "outputs": [
    {
     "output_type": "stream",
     "name": "stdout",
     "output_type": "stream",
     "text": [
      "+------------+------------------+------------------+\n|payment_type| avg_trip_distance| avg_trip_duration|\n+------------+------------------+------------------+\n|           1|3.2281984432289526|17.290641842479616|\n|           2|2.6444965816341894|16.189107409972998|\n|           3|3.3947976878612716| 9.989980732177266|\n|           4|2.6890789473684213| 8.739035087719298|\n+------------+------------------+------------------+\n\n"
     ]
    }
   ],
   "source": [
    "# Average trip distance and duration by payment type\n",
    "payment_analysis = df.groupBy(\"payment_type\") \\\n",
    "                     .agg(\n",
    "                         avg(\"trip_distance\").alias(\"avg_trip_distance\"),\n",
    "                         avg(\"trip_duration_minutes\").alias(\"avg_trip_duration\")\n",
    "                     ) \\\n",
    "                     .orderBy(\"payment_type\")\n",
    "\n",
    "payment_analysis.show()"
   ]
  },
  {
   "cell_type": "code",
   "execution_count": 0,
   "metadata": {
    "application/vnd.databricks.v1+cell": {
     "cellMetadata": {
      "byteLimit": 2048000,
      "rowLimit": 10000
     },
     "inputWidgets": {},
     "nuid": "ff893421-c122-4bb9-aa61-7cfa587c070c",
     "showTitle": false,
     "tableResultSettingsMap": {},
     "title": ""
    }
   },
   "outputs": [
    {
     "output_type": "stream",
     "name": "stdout",
     "output_type": "stream",
     "text": [
      "+----------+----------+\n|RatecodeID|trip_count|\n+----------+----------+\n|         1|     97199|\n|         2|      2207|\n|         5|       283|\n|         3|       262|\n|         4|        48|\n|         6|         1|\n+----------+----------+\n\n"
     ]
    }
   ],
   "source": [
    "# Distribution of trips by rate code\n",
    "rate_code_distribution = df.groupBy(\"RatecodeID\") \\\n",
    "                           .agg(count(\"*\").alias(\"trip_count\")) \\\n",
    "                           .orderBy(col(\"trip_count\").desc())\n",
    "\n",
    "rate_code_distribution.show()"
   ]
  },
  {
   "cell_type": "code",
   "execution_count": 0,
   "metadata": {
    "application/vnd.databricks.v1+cell": {
     "cellMetadata": {
      "byteLimit": 2048000,
      "rowLimit": 10000
     },
     "inputWidgets": {},
     "nuid": "ec5d3027-642d-42a7-8269-7cf845669656",
     "showTitle": false,
     "tableResultSettingsMap": {},
     "title": ""
    }
   },
   "outputs": [
    {
     "output_type": "stream",
     "name": "stdout",
     "output_type": "stream",
     "text": [
      "+--------+--------------------+---------------------+---------------+-------------+------------------+------------------+----------+------------------+------------------+------------------+------------+-----------+-----+-------+----------+------------+---------------------+------------+-------+---------------------+----------------------+\n|VendorID|tpep_pickup_datetime|tpep_dropoff_datetime|passenger_count|trip_distance|  pickup_longitude|   pickup_latitude|RatecodeID|store_and_fwd_flag| dropoff_longitude|  dropoff_latitude|payment_type|fare_amount|extra|mta_tax|tip_amount|tolls_amount|improvement_surcharge|total_amount|trip_id|trip_duration_minutes|trip_distance_category|\n+--------+--------------------+---------------------+---------------+-------------+------------------+------------------+----------+------------------+------------------+------------------+------------+-----------+-----+-------+----------+------------+---------------------+------------+-------+---------------------+----------------------+\n|       2| 2016-03-01 00:00:56|  2016-03-01 00:04:43|              1|         0.58|-73.96846771240233| 40.75896835327149|         1|                 N|-73.96259307861328| 40.76401138305664|           1|        4.5|  0.5|    0.5|      1.16|         0.0|                  0.3|        6.96|      0|    3.783333333333333|                 Short|\n|       2| 2016-03-10 07:09:06|  2016-03-10 08:00:54|              5|         22.0|-73.98843383789062| 40.76903533935546|         2|                 N|-73.78794860839844| 40.64458847045898|           1|       52.0|  0.0|    0.5|      10.8|        5.54|                  0.3|       69.14|      1|                 51.8|                  Long|\n|       2| 2016-03-10 07:10:25|  2016-03-10 07:27:30|              1|         7.11|-73.95269775390625| 40.77652359008789|         1|                 N|-74.00975799560547| 40.70216751098633|           1|       22.0|  0.0|    0.5|      4.56|         0.0|                  0.3|       27.36|      2|   17.083333333333332|                Medium|\n|       2| 2016-03-10 07:12:45|  2016-03-10 07:16:23|              2|         0.74|-73.98603057861328| 40.73477935791016|         1|                 N|-73.97476959228516|40.732818603515625|           1|        5.0|  0.0|    0.5|      1.16|         0.0|                  0.3|        6.96|      3|   3.6333333333333333|                 Short|\n|       2| 2016-03-10 07:14:17|  2016-03-10 07:28:59|              1|         6.35|-73.95063781738281|40.771099090576165|         1|                 N|  -74.004638671875| 40.71016311645508|           1|       19.5|  0.0|    0.5|      4.06|         0.0|                  0.3|       24.36|      4|                 14.7|                Medium|\n|       2| 2016-03-10 07:14:29|  2016-03-10 07:25:46|              1|         2.15|-73.99230194091797|40.730571746826165|         1|                 N|    -73.9755859375| 40.75518798828125|           2|       10.0|  0.0|    0.5|       0.0|         0.0|                  0.3|        10.8|      5|   11.283333333333333|                 Short|\n|       2| 2016-03-10 07:16:17|  2016-03-10 07:22:18|              1|         1.35|-73.97020721435547| 40.76520156860352|         1|                 N| -73.9554214477539|40.777000427246094|           1|        6.5|  0.0|    0.5|      1.46|         0.0|                  0.3|        8.76|      6|    6.016666666666667|                 Short|\n|       2| 2016-03-10 07:16:46|  2016-03-10 07:28:59|              1|         2.19|-73.94994354248048|  40.7712516784668|         1|                 N|-73.97335052490233|40.790000915527344|           1|       10.5|  0.0|    0.5|      2.26|         0.0|                  0.3|       13.56|      7|   12.216666666666667|                 Short|\n|       2| 2016-03-10 07:17:51|  2016-03-10 07:23:35|              1|          1.3|-73.96414947509764|  40.7763900756836|         1|                 N|-73.97868347167967| 40.76691055297852|           1|        6.5|  0.0|    0.5|       1.0|         0.0|                  0.3|         8.3|      8|    5.733333333333333|                 Short|\n|       2| 2016-03-10 07:18:22|  2016-03-10 07:30:20|              2|         2.34|-73.96533966064453|40.769088745117195|         1|                 N|-73.99092102050781| 40.75117874145508|           1|       10.5|  0.0|    0.5|      2.26|         0.0|                  0.3|       13.56|      9|   11.966666666666667|                 Short|\n|       2| 2016-03-10 07:19:29|  2016-03-10 07:32:56|              1|         3.28|  -73.960693359375| 40.76137924194336|         1|                 N|-73.98616790771484| 40.73482131958008|           2|       13.5|  0.0|    0.5|       0.0|         0.0|                  0.3|        14.3|     10|                13.45|                 Short|\n|       2| 2016-03-10 07:19:57|  2016-03-10 07:43:46|              1|         11.4|-73.97232055664062| 40.75535583496094|         1|                 N|-73.86260986328125|  40.7683982849121|           1|       32.0|  0.0|    0.5|      9.58|        5.54|                  0.3|       47.92|     11|   23.816666666666666|                Medium|\n|       2| 2016-03-10 07:20:04|  2016-03-10 07:37:03|              5|         1.84|-73.94609069824217| 40.77315902709961|         1|                 N|-73.96687316894531|  40.7886962890625|           1|       12.0|  0.0|    0.5|       1.0|         0.0|                  0.3|        13.8|     12|   16.983333333333334|                 Short|\n|       2| 2016-03-10 07:21:55|  2016-03-10 07:28:17|              1|         0.61|-73.97197723388672|  40.7577018737793|         1|                 N|-73.98178100585938|40.758487701416016|           2|        5.5|  0.0|    0.5|       0.0|         0.0|                  0.3|         6.3|     13|    6.366666666666666|                 Short|\n|       2| 2016-03-10 07:22:10|  2016-03-10 07:51:59|              2|         5.07|-73.91931915283203| 40.74430084228516|         1|                 N|-73.98719024658203| 40.75117874145508|           1|       22.5|  0.0|    0.5|      4.66|         0.0|                  0.3|       27.96|     14|   29.816666666666666|                Medium|\n|       2| 2016-03-10 07:23:07|  2016-03-10 07:30:14|              1|         1.28|  -73.950439453125| 40.77532958984375|         1|                 N|-73.96199798583984|40.763790130615234|           1|        7.0|  0.0|    0.5|       1.0|         0.0|                  0.3|         8.8|     15|    7.116666666666666|                 Short|\n|       2| 2016-03-10 07:23:21|  2016-03-10 07:30:15|              1|         1.17|-73.99031066894531|40.756790161132805|         1|                 N|-73.98509216308595| 40.74810028076172|           2|        6.5|  0.0|    0.5|       0.0|         0.0|                  0.3|         7.3|     16|                  6.9|                 Short|\n|       2| 2016-03-10 07:24:28|  2016-03-10 08:32:04|              1|        18.17|-73.78195953369139| 40.64482879638672|         2|                 N|-73.97913360595702|  40.7619514465332|           1|       52.0|  0.0|    0.5|     11.67|        5.54|                  0.3|       70.01|     17|                 67.6|                  Long|\n|       2| 2016-03-10 07:25:14|  2016-03-10 07:28:48|              1|         0.73| -73.9881362915039|40.774688720703125|         1|                 N|-73.98094177246092| 40.78200149536133|           1|        5.0|  0.0|    0.5|      1.16|         0.0|                  0.3|        6.96|     18|    3.566666666666667|                 Short|\n|       2| 2016-03-10 07:25:51|  2016-03-10 07:43:30|              1|         2.02|-73.97631072998048|40.775970458984375|         1|                 N|-73.98104858398438|40.752979278564446|           1|       13.0|  0.0|    0.5|      3.45|         0.0|                  0.3|       17.25|     19|                17.65|                 Short|\n+--------+--------------------+---------------------+---------------+-------------+------------------+------------------+----------+------------------+------------------+------------------+------------+-----------+-----+-------+----------+------------+---------------------+------------+-------+---------------------+----------------------+\nonly showing top 20 rows\n\n+----------------------+------------------+\n|trip_distance_category|     total_revenue|\n+----------------------+------------------+\n|                  Long| 199247.1599999995|\n|                Medium|441150.90000000654|\n|                 Short| 998674.0299999488|\n+----------------------+------------------+\n\n"
     ]
    }
   ],
   "source": [
    "from pyspark.sql.functions import when\n",
    "\n",
    "# Categorize trip distance into short, medium, and long trips\n",
    "df = df.withColumn(\"trip_distance_category\", \n",
    "                   when(col(\"trip_distance\") < 5, \"Short\")\n",
    "                   .when((col(\"trip_distance\") >= 5) & (col(\"trip_distance\") < 15), \"Medium\")\n",
    "                   .otherwise(\"Long\"))\n",
    "\n",
    "df.show()\n",
    "\n",
    "# Analyze revenue by trip distance category\n",
    "revenue_by_distance_category = df.groupBy(\"trip_distance_category\") \\\n",
    "                                 .agg(sum(\"total_amount\").alias(\"total_revenue\")) \\\n",
    "                                 .orderBy(\"trip_distance_category\")\n",
    "revenue_by_distance_category.show()"
   ]
  },
  {
   "cell_type": "code",
   "execution_count": 0,
   "metadata": {
    "application/vnd.databricks.v1+cell": {
     "cellMetadata": {
      "byteLimit": 2048000,
      "rowLimit": 10000
     },
     "inputWidgets": {},
     "nuid": "5ba48f84-e13e-4fa7-ba64-cdadf348398d",
     "showTitle": false,
     "tableResultSettingsMap": {},
     "title": ""
    }
   },
   "outputs": [
    {
     "output_type": "stream",
     "name": "stdout",
     "output_type": "stream",
     "text": [
      "+-----------+----------+\n|pickup_hour|trip_count|\n+-----------+----------+\n|          8|     11708|\n|          9|     10710|\n|         12|     10512|\n|         13|     10204|\n|         10|      9625|\n+-----------+----------+\n\n"
     ]
    }
   ],
   "source": [
    "# Identify peak hours based on trip count\n",
    "peak_hours = df.groupBy(hour(col(\"tpep_pickup_datetime\")).alias(\"pickup_hour\")) \\\n",
    "               .agg(count(\"*\").alias(\"trip_count\")) \\\n",
    "               .orderBy(col(\"trip_count\").desc()) \\\n",
    "               .limit(5)\n",
    "\n",
    "peak_hours.show()"
   ]
  },
  {
   "cell_type": "code",
   "execution_count": 0,
   "metadata": {
    "application/vnd.databricks.v1+cell": {
     "cellMetadata": {
      "byteLimit": 2048000,
      "rowLimit": 10000
     },
     "inputWidgets": {},
     "nuid": "6e0b5d1c-0021-4ed9-90e3-9501f648a17e",
     "showTitle": false,
     "tableResultSettingsMap": {},
     "title": ""
    }
   },
   "outputs": [
    {
     "output_type": "stream",
     "name": "stdout",
     "output_type": "stream",
     "text": [
      "+------------+--------------------+\n|payment_type|avg_revenue_per_mile|\n+------------+--------------------+\n|           1|   8.938963916700892|\n|           2|   9.395030655832459|\n|           3|   -4.58687095929926|\n|           4| -30.273418361518324|\n+------------+--------------------+\n\n"
     ]
    }
   ],
   "source": [
    "# Calculate revenue per mile\n",
    "df = df.withColumn(\"revenue_per_mile\", col(\"total_amount\") / col(\"trip_distance\"))\n",
    "\n",
    "# Average revenue per mile by payment type\n",
    "revenue_per_mile_by_payment = df.groupBy(\"payment_type\") \\\n",
    "                                .agg(avg(\"revenue_per_mile\").alias(\"avg_revenue_per_mile\")) \\\n",
    "                                .orderBy(\"payment_type\")\n",
    "\n",
    "revenue_per_mile_by_payment.show()"
   ]
  },
  {
   "cell_type": "code",
   "execution_count": 0,
   "metadata": {
    "application/vnd.databricks.v1+cell": {
     "cellMetadata": {
      "byteLimit": 2048000,
      "rowLimit": 10000
     },
     "inputWidgets": {},
     "nuid": "07a50775-026f-4f77-8063-befd7a104d86",
     "showTitle": false,
     "tableResultSettingsMap": {},
     "title": ""
    }
   },
   "outputs": [],
   "source": [
    "# Save revenue_by_hour to Parquet\n",
    "revenue_by_hour.write.mode(\"overwrite\").parquet(\"/mnt/uber-insights/revenue_by_hour\")\n",
    "\n",
    "# Save pickup_hotspots to CSV\n",
    "pickup_hotspots.write.mode(\"overwrite\").csv(\"/mnt/uber-insights/pickup_hotspots\")"
   ]
  }
 ],
 "metadata": {
  "application/vnd.databricks.v1+notebook": {
   "computePreferences": null,
   "dashboards": [],
   "environmentMetadata": {
    "base_environment": "",
    "client": "1"
   },
   "language": "python",
   "notebookMetadata": {
    "pythonIndentUnit": 4
   },
   "notebookName": "Untitled Notebook 2025-03-01 17:30:18",
   "widgets": {}
  }
 },
 "nbformat": 4,
 "nbformat_minor": 0
}
